{
 "cells": [
  {
   "cell_type": "markdown",
   "metadata": {},
   "source": [
    "# Problema do Caixeiro Viajante com Algoritmo Genético"
   ]
  },
  {
   "cell_type": "markdown",
   "metadata": {},
   "source": [
    "# Importações"
   ]
  },
  {
   "cell_type": "code",
   "execution_count": 5,
   "metadata": {},
   "outputs": [],
   "source": [
    "import math, random,copy\n",
    "#from matplotlib import pyplot as plt"
   ]
  },
  {
   "cell_type": "markdown",
   "metadata": {},
   "source": [
    "# Funções"
   ]
  },
  {
   "cell_type": "code",
   "execution_count": 3,
   "metadata": {},
   "outputs": [],
   "source": [
    "def distancia_euclidiana(x,y):\n",
    "    return math.sqrt((x[1]-[0])**2+(y[1]-y[0])**2)\n",
    "\n",
    "\n",
    "def fitness(vet,matrizDeDistancias):\n",
    "    soma = 0\n",
    "    for i in range(0,len(vet)-1):\n",
    "       soma+=matrizDeDistancias[vet[i]][vet[i+1]]\n",
    "    return soma + matrizDeDistancias[vet[0]][vet[-1]]\n",
    "\n",
    "\n",
    "def geraPopulacao(tamanho,dimensao):\n",
    "    populacao=[]\n",
    "    for i in range(tamanho):\n",
    "        populacao.append(random.sample(range(1,dimensao+1),dimensao))\n",
    "    return populacao\n",
    "\n",
    "\n",
    "def crossOver(p1,p2):\n",
    "    filho = copy.copy(p1)\n",
    "    pRand = random.sample(range(0,len(p1)),random.randint(1,len(p1)-1))\n",
    "    p.sort()\n",
    "    s=[]\n",
    "    for i in p:\n",
    "        s.append(p1[i])\n",
    "    pOrdenado=[]\n",
    "    for i in p2:\n",
    "        if i in s:\n",
    "            pOrdenado(s.index(i))\n",
    "    for i in range(len(s)):\n",
    "        filho[p[i]] = s[p_ord[i]]\n",
    "    return filho\n",
    "\n",
    "\n",
    "def crossOverAlternativo(p1,p2):\n",
    "    \n",
    "    return None\n",
    "def mutacao(x,id=3):\n",
    "    return None\n",
    "def selectRandon(pop,f,matriz):\n",
    "    return None\n",
    "\n",
    "def acumular(v):\n",
    "    saida =[]\n",
    "    acum=0\n",
    "    for i in v:\n",
    "        res.append(i+acum)\n",
    "        acum = res[-1]\n",
    "    return res"
   ]
  },
  {
   "cell_type": "markdown",
   "metadata": {},
   "source": [
    "# Genetico"
   ]
  },
  {
   "cell_type": "code",
   "execution_count": 4,
   "metadata": {},
   "outputs": [],
   "source": [
    "def genetico(pop_inicial, f, estagnacao, tx_mutacao, matriz, use_crossover_alternativo=False, id_mutacao=1, elitismo=False):\n",
    "    return None"
   ]
  }
 ],
 "metadata": {
  "kernelspec": {
   "display_name": "Python 3",
   "language": "python",
   "name": "python3"
  },
  "language_info": {
   "codemirror_mode": {
    "name": "ipython",
    "version": 3
   },
   "file_extension": ".py",
   "mimetype": "text/x-python",
   "name": "python",
   "nbconvert_exporter": "python",
   "pygments_lexer": "ipython3",
   "version": "3.5.3"
  }
 },
 "nbformat": 4,
 "nbformat_minor": 2
}
