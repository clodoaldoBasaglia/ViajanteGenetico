{
 "cells": [
  {
   "cell_type": "markdown",
   "metadata": {},
   "source": [
    "# Problema do Caixeiro Viajante com Algoritmo Genético"
   ]
  },
  {
   "cell_type": "markdown",
   "metadata": {},
   "source": [
    "# Importações"
   ]
  },
  {
   "cell_type": "code",
   "execution_count": null,
   "metadata": {},
   "outputs": [],
   "source": [
    "import math, random\n",
    "#from matplotlib import pyplot as plt"
   ]
  },
  {
   "cell_type": "markdown",
   "metadata": {},
   "source": [
    "# Funções"
   ]
  },
  {
   "cell_type": "code",
   "execution_count": 3,
   "metadata": {},
   "outputs": [],
   "source": [
    "def distancia_euclidiana(x,y):\n",
    "    return math.sqrt((x[1]-[0])**2+(y[1]-y[0])**2)\n",
    "def fitness(vet,matrizDeDistancias):\n",
    "    return None\n",
    "def geraPopulacao(tamanho,dimensao):\n",
    "    return None\n",
    "def crossOver(p1,p2):\n",
    "    return None\n",
    "def crossOverAlternativo(p1,p2):\n",
    "    return None\n",
    "def mutacao(x,id=3):\n",
    "    return None\n",
    "def selectRandon(pop,f,matriz):\n",
    "    return None\n",
    "def acumular(v):\n",
    "    saida =[]\n",
    "    acum=0\n",
    "    for i in v:\n",
    "        res.append(i+acum)\n",
    "        acum = res[-1]\n",
    "    return res"
   ]
  },
  {
   "cell_type": "markdown",
   "metadata": {},
   "source": [
    "# Genetico"
   ]
  },
  {
   "cell_type": "code",
   "execution_count": null,
   "metadata": {},
   "outputs": [],
   "source": []
  }
 ],
 "metadata": {
  "kernelspec": {
   "display_name": "Python 3",
   "language": "python",
   "name": "python3"
  },
  "language_info": {
   "codemirror_mode": {
    "name": "ipython",
    "version": 3
   },
   "file_extension": ".py",
   "mimetype": "text/x-python",
   "name": "python",
   "nbconvert_exporter": "python",
   "pygments_lexer": "ipython3",
   "version": "3.5.3"
  }
 },
 "nbformat": 4,
 "nbformat_minor": 2
}
