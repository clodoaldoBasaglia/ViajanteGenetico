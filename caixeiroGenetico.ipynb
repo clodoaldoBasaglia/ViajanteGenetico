{
 "cells": [
  {
   "cell_type": "markdown",
   "metadata": {},
   "source": [
    "# Problema do Caixeiro Viajante com Algoritmo Genético"
   ]
  },
  {
   "cell_type": "markdown",
   "metadata": {},
   "source": [
    "# Importações"
   ]
  },
  {
   "cell_type": "code",
   "execution_count": 5,
   "metadata": {},
   "outputs": [],
   "source": [
    "import math, random,copy\n",
    "#from matplotlib import pyplot as plt"
   ]
  },
  {
   "cell_type": "markdown",
   "metadata": {},
   "source": [
    "# Funções"
   ]
  },
  {
   "cell_type": "code",
   "execution_count": 3,
   "metadata": {},
   "outputs": [],
   "source": [
    "def distancia_euclidiana(x,y):\n",
    "    return math.sqrt((x[1]-[0])**2+(y[1]-y[0])**2)\n",
    "\n",
    "\n",
    "def fitness(vet,matrizDeDistancias):\n",
    "    soma = 0\n",
    "    for i in range(0,len(vet)-1):\n",
    "       soma+=matrizDeDistancias[vet[i]][vet[i+1]]\n",
    "    return soma + matrizDeDistancias[vet[0]][vet[-1]]\n",
    "\n",
    "\n",
    "def geraPopulacao(tamanho,dimensao):\n",
    "    populacao=[]\n",
    "    for i in range(tamanho):\n",
    "        populacao.append(random.sample(range(1,dimensao+1),dimensao))\n",
    "    return populacao\n",
    "\n",
    "\n",
    "def crossOver(p1,p2):\n",
    "    filho = copy.copy(p1)\n",
    "    pRand = random.sample(range(0,len(p1)),random.randint(1,len(p1)-1))\n",
    "    p.sort()\n",
    "    s=[]\n",
    "    for i in p:\n",
    "        s.append(p1[i])\n",
    "    pOrdenado=[]\n",
    "    for i in p2:\n",
    "        if i in s:\n",
    "            pOrdenado(s.index(i))\n",
    "    for i in range(len(s)):\n",
    "        filho[p[i]] = s[p_ord[i]]\n",
    "    return filho\n",
    "\n",
    "\n",
    "def crossOverAlternativo(p1,p2):\n",
    "    filho = copy.copy(p1)\n",
    "    corte = random.randrange(1,len(p1))\n",
    "    for i in range(corte,len(p1)):\n",
    "        if(p2[i] not in filho[0:i]):\n",
    "            filho[filho.index(p2[i])] = filho[i]\n",
    "            filho[i]=p2[i]\n",
    "    return filho\n",
    "\n",
    "\n",
    "def mutacao(x,id=3):\n",
    "    if(id==1):\n",
    "        id =0\n",
    "    elif(id==2):\n",
    "        id=1\n",
    "    else:\n",
    "        i = random.random()\n",
    "    if(id <0.5):\n",
    "        index = random.sample(range(0,len(x)),2)\n",
    "        aux = x[index[0]]\n",
    "        x[index[0]]=x[index[1]]\n",
    "        x[index[1]]=aux\n",
    "    else:\n",
    "        index = random.randrange(0,len(x))\n",
    "        aux= index+1\n",
    "    if(x[index]%2==2):\n",
    "        while x[aux % len(x)]%2 !=0:\n",
    "            aux+=1\n",
    "        aux = aux % len(x)\n",
    "        aux2=x[aux]\n",
    "        x[aux]=x[index]\n",
    "        x[index]=aux2\n",
    "    else:\n",
    "        while x[aux%len(x)]%2==0:\n",
    "            aux +=1\n",
    "        aux = aux % len(x)\n",
    "        aux2=x[aux]\n",
    "        x[aux]=x[index]\n",
    "        x[index=aux2\n",
    "    return x\n",
    "          \n",
    "def selectRandon(pop,f,matriz):\n",
    "    fit=[]\n",
    "    for p in pop:\n",
    "          fit.append(1/f(p,matriz))\n",
    "    soma = sum(fit)\n",
    "    norm = map(lambda x: x/soma,fit)\n",
    "    acm = acumular(norm)\n",
    "    r = random.random()\n",
    "    for i in range(len(acm)):\n",
    "          i\n",
    "    return None\n",
    "\n",
    "def acumular(v):\n",
    "    saida =[]\n",
    "    acum=0\n",
    "    for i in v:\n",
    "        res.append(i+acum)\n",
    "        acum = res[-1]\n",
    "    return res"
   ]
  },
  {
   "cell_type": "markdown",
   "metadata": {},
   "source": [
    "# Genetico"
   ]
  },
  {
   "cell_type": "code",
   "execution_count": 4,
   "metadata": {},
   "outputs": [],
   "source": [
    "def genetico(pop_inicial, f, estagnacao, tx_mutacao, matriz, use_crossover_alternativo=False, id_mutacao=1, elitismo=False):\n",
    "    return None"
   ]
  }
 ],
 "metadata": {
  "kernelspec": {
   "display_name": "Python 3",
   "language": "python",
   "name": "python3"
  },
  "language_info": {
   "codemirror_mode": {
    "name": "ipython",
    "version": 3
   },
   "file_extension": ".py",
   "mimetype": "text/x-python",
   "name": "python",
   "nbconvert_exporter": "python",
   "pygments_lexer": "ipython3",
   "version": "3.5.3"
  }
 },
 "nbformat": 4,
 "nbformat_minor": 2
}
